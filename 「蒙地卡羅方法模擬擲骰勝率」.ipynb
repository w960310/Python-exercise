{
  "nbformat": 4,
  "nbformat_minor": 0,
  "metadata": {
    "colab": {
      "name": "「蒙地卡羅方法模擬擲骰勝率」",
      "provenance": [],
      "collapsed_sections": [],
      "include_colab_link": true
    },
    "kernelspec": {
      "name": "python3",
      "display_name": "Python 3"
    },
    "language_info": {
      "name": "python"
    }
  },
  "cells": [
    {
      "cell_type": "markdown",
      "metadata": {
        "id": "view-in-github",
        "colab_type": "text"
      },
      "source": [
        "<a href=\"https://colab.research.google.com/github/w960310/python-exercise/blob/main/%E3%80%8C%E8%92%99%E5%9C%B0%E5%8D%A1%E7%BE%85%E6%96%B9%E6%B3%95%E6%A8%A1%E6%93%AC%E6%93%B2%E9%AA%B0%E5%8B%9D%E7%8E%87%E3%80%8D.ipynb\" target=\"_parent\"><img src=\"https://colab.research.google.com/assets/colab-badge.svg\" alt=\"Open In Colab\"/></a>"
      ]
    },
    {
      "cell_type": "markdown",
      "source": [
        "# 蒙地卡羅方法模擬擲骰勝率\n",
        "\n",
        "\n",
        "\n",
        "\n"
      ],
      "metadata": {
        "id": "pabutDJH1N4d"
      }
    },
    {
      "cell_type": "markdown",
      "source": [
        "## 一顆骰子"
      ],
      "metadata": {
        "id": "_HsH-PuU1dFY"
      }
    },
    {
      "cell_type": "code",
      "source": [
        "# 引入模塊\n",
        "import numpy as np"
      ],
      "metadata": {
        "id": "hxeEXsdW1oiD"
      },
      "execution_count": null,
      "outputs": []
    },
    {
      "cell_type": "code",
      "source": [
        "\"\"\"\n",
        "隨機生成1到6的函數\n",
        "size表示生成幾個\n",
        "\"\"\"\n",
        "np.random.randint(1, 7, size=100)"
      ],
      "metadata": {
        "colab": {
          "base_uri": "https://localhost:8080/"
        },
        "id": "ueweTgpP164q",
        "outputId": "fbac22c6-9b0f-4b46-f972-9e04b90a235a"
      },
      "execution_count": null,
      "outputs": [
        {
          "output_type": "execute_result",
          "data": {
            "text/plain": [
              "array([3, 2, 1, 4, 5, 2, 6, 2, 2, 4, 6, 4, 1, 3, 4, 6, 6, 5, 5, 4, 4, 3,\n",
              "       4, 2, 2, 5, 2, 4, 3, 1, 1, 2, 1, 1, 5, 5, 4, 4, 6, 5, 5, 3, 5, 5,\n",
              "       4, 6, 1, 3, 3, 3, 6, 5, 5, 3, 4, 1, 5, 2, 5, 5, 3, 1, 2, 6, 6, 3,\n",
              "       5, 5, 2, 5, 2, 3, 4, 3, 6, 3, 3, 3, 3, 2, 6, 5, 2, 4, 4, 6, 2, 5,\n",
              "       3, 6, 2, 6, 5, 6, 5, 3, 5, 3, 4, 3])"
            ]
          },
          "metadata": {},
          "execution_count": 2
        }
      ]
    },
    {
      "cell_type": "code",
      "source": [
        "def get_win_rate(my_point, number_of_simulation):\n",
        "  # 隨機生成對手點數 個數:number_of_simulation個\n",
        "  opponent_points = np.random.randint(1,7, size=number_of_simulation)\n",
        "\n",
        "  # 初始化數據\n",
        "  draw = 0\n",
        "  loss = 0\n",
        "  win = 0\n",
        "\n",
        "  # 迴圈滾過所有的對手點數可能\n",
        "  for opponent_point in opponent_points:\n",
        "\n",
        "    # 累加贏的次數\n",
        "    if my_point > opponent_point:\n",
        "      win = win + 1\n",
        "\n",
        "    # 累加輸的次數\n",
        "    elif my_point < opponent_point:\n",
        "      loss = loss + 1\n",
        "    \n",
        "    # 累加平手的次數\n",
        "    else:\n",
        "      draw = draw + 1\n",
        "  \n",
        "  # 打印出結果\n",
        "  print(\"贏的次數: \", win, \"贏的機率: \", win/number_of_simulation)\n",
        "  print(\"輸的次數: \", loss, \"輸的機率: \", loss/number_of_simulation)\n",
        "  print(\"平手的次數: \", draw, \"平手的機率: \", draw/number_of_simulation)"
      ],
      "metadata": {
        "id": "baABeEwI1jVA"
      },
      "execution_count": null,
      "outputs": []
    },
    {
      "cell_type": "code",
      "source": [
        "# 呼叫get_win_rate函數\n",
        "\n",
        "get_win_rate(my_point=3.5, number_of_simulation=1000)"
      ],
      "metadata": {
        "colab": {
          "base_uri": "https://localhost:8080/"
        },
        "id": "SDZGeVEI4wZJ",
        "outputId": "65de037d-fa54-41c8-c5ed-b18e7c8f96c4"
      },
      "execution_count": null,
      "outputs": [
        {
          "output_type": "stream",
          "name": "stdout",
          "text": [
            "贏的次數:  503 贏的機率:  0.503\n",
            "輸的次數:  497 輸的機率:  0.497\n",
            "平手的次數:  0 平手的機率:  0.0\n"
          ]
        }
      ]
    },
    {
      "cell_type": "markdown",
      "source": [
        "# 三顆骰子版本\n",
        "\n",
        "寫一個函數input是一個數字x\n",
        "函數的內容是利用蒙地卡羅模擬計算出隨機擲三顆骰子點數和大於x, 小於x, 與等於x的機率"
      ],
      "metadata": {
        "id": "tVOEVmpiHVPZ"
      }
    },
    {
      "cell_type": "markdown",
      "source": [
        "Step 1: 先寫出3個骰子相加會得到的點數,重複 number_of_simulation 次"
      ],
      "metadata": {
        "id": "v-3oGftPJ-0N"
      }
    },
    {
      "cell_type": "markdown",
      "source": [
        "Step 2: 給一個數，和上面三顆骰出來的數字第一筆比較是贏還輸\n",
        "\n"
      ],
      "metadata": {
        "id": "O6GY_nQTMAzB"
      }
    },
    {
      "cell_type": "markdown",
      "source": [
        "Step 3: for 迴圈重複比較"
      ],
      "metadata": {
        "id": "ZZvpdbpeRpVB"
      }
    },
    {
      "cell_type": "markdown",
      "source": [
        "Final: 完整函數"
      ],
      "metadata": {
        "id": "HAZE53lPKMlz"
      }
    },
    {
      "cell_type": "code",
      "source": [
        "# 引入模塊\n",
        "import numpy as np"
      ],
      "metadata": {
        "id": "p3n6jPV2ebz1"
      },
      "execution_count": null,
      "outputs": []
    },
    {
      "cell_type": "code",
      "source": [
        "#測試三個骰子點數相加\n",
        "number_of_simulation = 100\n",
        "opponent_points_1 = np.random.randint(1,7, size=number_of_simulation)\n",
        "opponent_points_2 = np.random.randint(1,7, size=number_of_simulation)\n",
        "opponent_points_3 = np.random.randint(1,7, size=number_of_simulation)\n",
        "opponent_points = opponent_points_1 + opponent_points_2 + opponent_points_3\n",
        "print(opponent_points)"
      ],
      "metadata": {
        "colab": {
          "base_uri": "https://localhost:8080/"
        },
        "id": "Ij_agor7hDJv",
        "outputId": "b0af28f8-2980-4649-c78a-cff8c8f482ad"
      },
      "execution_count": null,
      "outputs": [
        {
          "output_type": "stream",
          "name": "stdout",
          "text": [
            "[14 13 11 13  4  9 13 10 12  9 13  9 11  9  9 14 12 12 12 11 11 11  6 12\n",
            "  8 14 13 13  8 13  9 14 10  9 10 13 11  9  9  8 15  6  9  9  9  5 11 14\n",
            "  8 15  9 10  8  8 12  8 11  6  9  9 10 11 10 12 14  8 12  7 10  9 12 15\n",
            "  4  8  8  7 13 11 12 13 12 12  9  9  8 12 13 12 18 10  9 10  9  9 10 10\n",
            " 12  9  9 10]\n"
          ]
        }
      ]
    },
    {
      "cell_type": "code",
      "source": [
        "def get_win_rate(my_point, number_of_simulation):\n",
        "  # 隨機生成對手點數 個數:number_of_simulation個\n",
        "  opponent_points_1 = np.random.randint(1,7, size=number_of_simulation)\n",
        "  opponent_points_2 = np.random.randint(1,7, size=number_of_simulation)\n",
        "  opponent_points_3 = np.random.randint(1,7, size=number_of_simulation)\n",
        "  opponent_points = opponent_points_1 + opponent_points_2 + opponent_points_3\n",
        "\n",
        "  #初始化數據\n",
        "  draw = 0\n",
        "  win = 0\n",
        "  loss = 0\n",
        "\n",
        "  #滾過所有對手點數\n",
        "  for opponent_point in opponent_points:\n",
        "    if my_point > opponent_point:\n",
        "      win = win + 1\n",
        "    elif my_point < opponent_point:\n",
        "      loss = loss + 1\n",
        "    else: \n",
        "      draw = draw + 1\n",
        "\n",
        "  print(\"贏的次數: \", win, \"贏的機率: \", win/number_of_simulation)\n",
        "  print(\"輸的次數: \", loss, \"輸的機率: \", loss/number_of_simulation)\n",
        "  print(\"平手的次數: \", draw, \"平手的機率: \", draw/number_of_simulation)"
      ],
      "metadata": {
        "id": "cHvFOeVqesLs"
      },
      "execution_count": null,
      "outputs": []
    },
    {
      "cell_type": "code",
      "source": [
        "# 呼叫get_win_rate函數\n",
        "\n",
        "get_win_rate(my_point=11, number_of_simulation=1000)"
      ],
      "metadata": {
        "colab": {
          "base_uri": "https://localhost:8080/"
        },
        "id": "y9mrAhObiUsd",
        "outputId": "8c4425bc-7118-4cbc-8681-46c07ec64bad"
      },
      "execution_count": null,
      "outputs": [
        {
          "output_type": "stream",
          "name": "stdout",
          "text": [
            "贏的次數:  471 贏的機率:  0.471\n",
            "輸的次數:  403 輸的機率:  0.403\n",
            "平手的次數:  126 平手的機率:  0.126\n"
          ]
        }
      ]
    }
  ]
}
