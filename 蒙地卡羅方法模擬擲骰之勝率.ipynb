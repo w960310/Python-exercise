{
  "nbformat": 4,
  "nbformat_minor": 0,
  "metadata": {
    "colab": {
      "name": "蒙地卡羅方法模擬擲骰之勝率",
      "provenance": [],
      "collapsed_sections": [],
      "include_colab_link": true
    },
    "kernelspec": {
      "name": "python3",
      "display_name": "Python 3"
    },
    "language_info": {
      "name": "python"
    }
  },
  "cells": [
    {
      "cell_type": "markdown",
      "metadata": {
        "id": "view-in-github",
        "colab_type": "text"
      },
      "source": [
        "<a href=\"https://colab.research.google.com/github/w960310/python-exercise/blob/main/%E8%92%99%E5%9C%B0%E5%8D%A1%E7%BE%85%E6%96%B9%E6%B3%95%E6%A8%A1%E6%93%AC%E6%93%B2%E9%AA%B0%E4%B9%8B%E5%8B%9D%E7%8E%87.ipynb\" target=\"_parent\"><img src=\"https://colab.research.google.com/assets/colab-badge.svg\" alt=\"Open In Colab\"/></a>"
      ]
    },
    {
      "cell_type": "markdown",
      "source": [
        "# 骰子遊戲蒙地卡羅求勝率模擬\n",
        "\n",
        "\n",
        "\n",
        "\n"
      ],
      "metadata": {
        "id": "pabutDJH1N4d"
      }
    },
    {
      "cell_type": "markdown",
      "source": [
        "## 一顆骰子"
      ],
      "metadata": {
        "id": "_HsH-PuU1dFY"
      }
    },
    {
      "cell_type": "code",
      "source": [
        "# 引入模塊\n",
        "import numpy as np"
      ],
      "metadata": {
        "id": "hxeEXsdW1oiD"
      },
      "execution_count": 1,
      "outputs": []
    },
    {
      "cell_type": "code",
      "source": [
        "\"\"\"\n",
        "隨機生成1到6的函數\n",
        "size表示生成幾個\n",
        "\"\"\"\n",
        "np.random.randint(1, 7, size=100)"
      ],
      "metadata": {
        "colab": {
          "base_uri": "https://localhost:8080/"
        },
        "id": "ueweTgpP164q",
        "outputId": "d359ee90-050d-4dd5-87b4-fa15e6bac5b2"
      },
      "execution_count": 2,
      "outputs": [
        {
          "output_type": "execute_result",
          "data": {
            "text/plain": [
              "array([4, 4, 3, 5, 5, 5, 4, 5, 5, 1, 5, 6, 1, 4, 2, 4, 1, 6, 4, 3, 5, 5,\n",
              "       1, 2, 2, 3, 5, 4, 3, 5, 6, 5, 2, 3, 3, 2, 1, 6, 3, 5, 5, 5, 5, 4,\n",
              "       5, 2, 1, 1, 6, 5, 1, 3, 1, 1, 3, 4, 2, 1, 4, 6, 2, 1, 1, 5, 5, 2,\n",
              "       4, 1, 6, 2, 3, 2, 3, 6, 1, 3, 1, 4, 6, 3, 3, 5, 5, 1, 2, 6, 5, 2,\n",
              "       5, 5, 5, 6, 5, 1, 1, 6, 3, 6, 3, 4])"
            ]
          },
          "metadata": {},
          "execution_count": 2
        }
      ]
    },
    {
      "cell_type": "code",
      "source": [
        "def get_win_rate(my_point, number_of_simulation):\n",
        "  # 隨機生成對手點數 個數:number_of_simulation個\n",
        "  opponent_points = np.random.randint(1,7, size=number_of_simulation)\n",
        "\n",
        "  # 初始化數據\n",
        "  draw = 0\n",
        "  loss = 0\n",
        "  win = 0\n",
        "\n",
        "  # 迴圈滾過所有的對手點數可能\n",
        "  for opponent_point in opponent_points:\n",
        "\n",
        "    # 累加贏的次數\n",
        "    if my_point > opponent_point:\n",
        "      win = win + 1\n",
        "\n",
        "    # 累加輸的次數\n",
        "    elif my_point < opponent_point:\n",
        "      loss = loss + 1\n",
        "    \n",
        "    # 累加平手的次數\n",
        "    else:\n",
        "      draw = draw + 1\n",
        "  \n",
        "  # 打印出結果\n",
        "  print(\"贏的次數: \", win, \"贏的機率: \", win/number_of_simulation)\n",
        "  print(\"輸的次數: \", loss, \"輸的機率: \", loss/number_of_simulation)\n",
        "  print(\"平手的次數: \", draw, \"平手的機率: \", draw/number_of_simulation)"
      ],
      "metadata": {
        "id": "baABeEwI1jVA"
      },
      "execution_count": 4,
      "outputs": []
    },
    {
      "cell_type": "code",
      "source": [
        "# 呼叫get_win_rate函數\n",
        "\n",
        "get_win_rate(my_point=3.5, number_of_simulation=1000)"
      ],
      "metadata": {
        "colab": {
          "base_uri": "https://localhost:8080/"
        },
        "id": "SDZGeVEI4wZJ",
        "outputId": "af98784b-61c4-419e-8682-0274a3837f54"
      },
      "execution_count": 5,
      "outputs": [
        {
          "output_type": "stream",
          "name": "stdout",
          "text": [
            "贏的次數:  519 贏的機率:  0.519\n",
            "輸的次數:  481 輸的機率:  0.481\n",
            "平手的次數:  0 平手的機率:  0.0\n"
          ]
        }
      ]
    },
    {
      "cell_type": "markdown",
      "source": [
        "# 三顆骰子版本"
      ],
      "metadata": {
        "id": "tVOEVmpiHVPZ"
      }
    },
    {
      "cell_type": "code",
      "source": [
        "# 引入模塊\n",
        "import numpy as np"
      ],
      "metadata": {
        "id": "p3n6jPV2ebz1"
      },
      "execution_count": 6,
      "outputs": []
    },
    {
      "cell_type": "code",
      "source": [
        "#測試三個骰子點數相加\n",
        "number_of_simulation = 100\n",
        "opponent_points_1 = np.random.randint(1,7, size=number_of_simulation)\n",
        "opponent_points_2 = np.random.randint(1,7, size=number_of_simulation)\n",
        "opponent_points_3 = np.random.randint(1,7, size=number_of_simulation)\n",
        "opponent_points = opponent_points_1 + opponent_points_2 + opponent_points_3\n",
        "print(opponent_points)"
      ],
      "metadata": {
        "colab": {
          "base_uri": "https://localhost:8080/"
        },
        "id": "Ij_agor7hDJv",
        "outputId": "ebeed3c3-34c9-4305-c6fa-d9a17fac35f4"
      },
      "execution_count": 9,
      "outputs": [
        {
          "output_type": "stream",
          "name": "stdout",
          "text": [
            "[10 12  7  7 10  5  8 13 10 10 16  9 18  3 12 11  8 11 17  9 18 12 10 15\n",
            " 10 13 12 13 13 12  5 14 13 10  8 13 13  8  8 11 16  8 15 12  9 14 15 12\n",
            "  5 15 12 12  5  7  4 12  9  9  8 11  5  9 15 12  7 12 12 15 11  6  7 14\n",
            "  7 13 14 16 10 14  9  6 10  8 10 13  9 13 11  9 10  5  6  6 12 14  7  9\n",
            "  5 11 13 12]\n"
          ]
        }
      ]
    },
    {
      "cell_type": "code",
      "source": [
        "def get_win_rate(my_point, number_of_simulation):\n",
        "  # 隨機生成對手點數 個數:number_of_simulation個\n",
        "  opponent_points_1 = np.random.randint(1,7, size=number_of_simulation)\n",
        "  opponent_points_2 = np.random.randint(1,7, size=number_of_simulation)\n",
        "  opponent_points_3 = np.random.randint(1,7, size=number_of_simulation)\n",
        "  opponent_points = opponent_points_1 + opponent_points_2 + opponent_points_3\n",
        "\n",
        "  #初始化數據\n",
        "  draw = 0\n",
        "  win = 0\n",
        "  loss = 0\n",
        "\n",
        "  #滾過所有對手點數\n",
        "  for opponent_point in opponent_points:\n",
        "    if my_point > opponent_point:\n",
        "      win = win + 1\n",
        "    elif my_point < opponent_point:\n",
        "      loss = loss + 1\n",
        "    else: \n",
        "      draw = draw + 1\n",
        "\n",
        "  print(\"贏的次數: \", win, \"贏的機率: \", win/number_of_simulation)\n",
        "  print(\"輸的次數: \", loss, \"輸的機率: \", loss/number_of_simulation)\n",
        "  print(\"平手的次數: \", draw, \"平手的機率: \", draw/number_of_simulation)"
      ],
      "metadata": {
        "id": "cHvFOeVqesLs"
      },
      "execution_count": 8,
      "outputs": []
    },
    {
      "cell_type": "code",
      "source": [
        "# 呼叫get_win_rate函數\n",
        "\n",
        "get_win_rate(my_point=11, number_of_simulation=1000)"
      ],
      "metadata": {
        "colab": {
          "base_uri": "https://localhost:8080/"
        },
        "id": "y9mrAhObiUsd",
        "outputId": "fdb973a4-ad1c-4d59-cbb9-6ac39f49b715"
      },
      "execution_count": 10,
      "outputs": [
        {
          "output_type": "stream",
          "name": "stdout",
          "text": [
            "贏的次數:  506 贏的機率:  0.506\n",
            "輸的次數:  365 輸的機率:  0.365\n",
            "平手的次數:  129 平手的機率:  0.129\n"
          ]
        }
      ]
    }
  ]
}